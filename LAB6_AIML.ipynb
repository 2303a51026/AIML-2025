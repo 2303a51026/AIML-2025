{
  "nbformat": 4,
  "nbformat_minor": 0,
  "metadata": {
    "colab": {
      "provenance": [],
      "mount_file_id": "17NigV0dF81ZxevzQqJVFlqRzY4JiXuFj",
      "authorship_tag": "ABX9TyMo9Cle89QeupBNmTHiWK3I",
      "include_colab_link": true
    },
    "kernelspec": {
      "name": "python3",
      "display_name": "Python 3"
    },
    "language_info": {
      "name": "python"
    }
  },
  "cells": [
    {
      "cell_type": "markdown",
      "metadata": {
        "id": "view-in-github",
        "colab_type": "text"
      },
      "source": [
        "<a href=\"https://colab.research.google.com/github/2303a51026/AIML-2025/blob/main/LAB6_AIML.ipynb\" target=\"_parent\"><img src=\"https://colab.research.google.com/assets/colab-badge.svg\" alt=\"Open In Colab\"/></a>"
      ]
    },
    {
      "cell_type": "markdown",
      "source": [],
      "metadata": {
        "id": "arIh3hOgny9U"
      }
    },
    {
      "cell_type": "code",
      "source": [
        "import pandas as pd\n",
        "import seaborn as sns\n",
        "import matplotlib.pyplot as plt\n",
        "from google.colab import files\n",
        "from sklearn.preprocessing import StandardScaler\n",
        "from sklearn.model_selection import train_test_split\n",
        "from sklearn.neighbors import KNeighborsClassifier\n",
        "from sklearn.metrics import classification_report, confusion_matrix"
      ],
      "metadata": {
        "id": "oMRB8i9Qn0cp"
      },
      "execution_count": 1,
      "outputs": []
    },
    {
      "cell_type": "markdown",
      "source": [
        "PART 01:import required python,pandas,Matlotlib,colab"
      ],
      "metadata": {
        "id": "Q_9Yjnvfo_I2"
      }
    },
    {
      "cell_type": "code",
      "source": [
        "#uploaded the files using Google Colab uploader\n",
        "uploaded=files.upload()"
      ],
      "metadata": {
        "colab": {
          "base_uri": "https://localhost:8080/",
          "height": 73
        },
        "id": "JHck_058pR-n",
        "outputId": "62df29fc-c2bf-458d-98f4-1868d03933b2"
      },
      "execution_count": 2,
      "outputs": [
        {
          "output_type": "display_data",
          "data": {
            "text/plain": [
              "<IPython.core.display.HTML object>"
            ],
            "text/html": [
              "\n",
              "     <input type=\"file\" id=\"files-9c0f0e34-1920-4f9b-af24-489d595a8b98\" name=\"files[]\" multiple disabled\n",
              "        style=\"border:none\" />\n",
              "     <output id=\"result-9c0f0e34-1920-4f9b-af24-489d595a8b98\">\n",
              "      Upload widget is only available when the cell has been executed in the\n",
              "      current browser session. Please rerun this cell to enable.\n",
              "      </output>\n",
              "      <script>// Copyright 2017 Google LLC\n",
              "//\n",
              "// Licensed under the Apache License, Version 2.0 (the \"License\");\n",
              "// you may not use this file except in compliance with the License.\n",
              "// You may obtain a copy of the License at\n",
              "//\n",
              "//      http://www.apache.org/licenses/LICENSE-2.0\n",
              "//\n",
              "// Unless required by applicable law or agreed to in writing, software\n",
              "// distributed under the License is distributed on an \"AS IS\" BASIS,\n",
              "// WITHOUT WARRANTIES OR CONDITIONS OF ANY KIND, either express or implied.\n",
              "// See the License for the specific language governing permissions and\n",
              "// limitations under the License.\n",
              "\n",
              "/**\n",
              " * @fileoverview Helpers for google.colab Python module.\n",
              " */\n",
              "(function(scope) {\n",
              "function span(text, styleAttributes = {}) {\n",
              "  const element = document.createElement('span');\n",
              "  element.textContent = text;\n",
              "  for (const key of Object.keys(styleAttributes)) {\n",
              "    element.style[key] = styleAttributes[key];\n",
              "  }\n",
              "  return element;\n",
              "}\n",
              "\n",
              "// Max number of bytes which will be uploaded at a time.\n",
              "const MAX_PAYLOAD_SIZE = 100 * 1024;\n",
              "\n",
              "function _uploadFiles(inputId, outputId) {\n",
              "  const steps = uploadFilesStep(inputId, outputId);\n",
              "  const outputElement = document.getElementById(outputId);\n",
              "  // Cache steps on the outputElement to make it available for the next call\n",
              "  // to uploadFilesContinue from Python.\n",
              "  outputElement.steps = steps;\n",
              "\n",
              "  return _uploadFilesContinue(outputId);\n",
              "}\n",
              "\n",
              "// This is roughly an async generator (not supported in the browser yet),\n",
              "// where there are multiple asynchronous steps and the Python side is going\n",
              "// to poll for completion of each step.\n",
              "// This uses a Promise to block the python side on completion of each step,\n",
              "// then passes the result of the previous step as the input to the next step.\n",
              "function _uploadFilesContinue(outputId) {\n",
              "  const outputElement = document.getElementById(outputId);\n",
              "  const steps = outputElement.steps;\n",
              "\n",
              "  const next = steps.next(outputElement.lastPromiseValue);\n",
              "  return Promise.resolve(next.value.promise).then((value) => {\n",
              "    // Cache the last promise value to make it available to the next\n",
              "    // step of the generator.\n",
              "    outputElement.lastPromiseValue = value;\n",
              "    return next.value.response;\n",
              "  });\n",
              "}\n",
              "\n",
              "/**\n",
              " * Generator function which is called between each async step of the upload\n",
              " * process.\n",
              " * @param {string} inputId Element ID of the input file picker element.\n",
              " * @param {string} outputId Element ID of the output display.\n",
              " * @return {!Iterable<!Object>} Iterable of next steps.\n",
              " */\n",
              "function* uploadFilesStep(inputId, outputId) {\n",
              "  const inputElement = document.getElementById(inputId);\n",
              "  inputElement.disabled = false;\n",
              "\n",
              "  const outputElement = document.getElementById(outputId);\n",
              "  outputElement.innerHTML = '';\n",
              "\n",
              "  const pickedPromise = new Promise((resolve) => {\n",
              "    inputElement.addEventListener('change', (e) => {\n",
              "      resolve(e.target.files);\n",
              "    });\n",
              "  });\n",
              "\n",
              "  const cancel = document.createElement('button');\n",
              "  inputElement.parentElement.appendChild(cancel);\n",
              "  cancel.textContent = 'Cancel upload';\n",
              "  const cancelPromise = new Promise((resolve) => {\n",
              "    cancel.onclick = () => {\n",
              "      resolve(null);\n",
              "    };\n",
              "  });\n",
              "\n",
              "  // Wait for the user to pick the files.\n",
              "  const files = yield {\n",
              "    promise: Promise.race([pickedPromise, cancelPromise]),\n",
              "    response: {\n",
              "      action: 'starting',\n",
              "    }\n",
              "  };\n",
              "\n",
              "  cancel.remove();\n",
              "\n",
              "  // Disable the input element since further picks are not allowed.\n",
              "  inputElement.disabled = true;\n",
              "\n",
              "  if (!files) {\n",
              "    return {\n",
              "      response: {\n",
              "        action: 'complete',\n",
              "      }\n",
              "    };\n",
              "  }\n",
              "\n",
              "  for (const file of files) {\n",
              "    const li = document.createElement('li');\n",
              "    li.append(span(file.name, {fontWeight: 'bold'}));\n",
              "    li.append(span(\n",
              "        `(${file.type || 'n/a'}) - ${file.size} bytes, ` +\n",
              "        `last modified: ${\n",
              "            file.lastModifiedDate ? file.lastModifiedDate.toLocaleDateString() :\n",
              "                                    'n/a'} - `));\n",
              "    const percent = span('0% done');\n",
              "    li.appendChild(percent);\n",
              "\n",
              "    outputElement.appendChild(li);\n",
              "\n",
              "    const fileDataPromise = new Promise((resolve) => {\n",
              "      const reader = new FileReader();\n",
              "      reader.onload = (e) => {\n",
              "        resolve(e.target.result);\n",
              "      };\n",
              "      reader.readAsArrayBuffer(file);\n",
              "    });\n",
              "    // Wait for the data to be ready.\n",
              "    let fileData = yield {\n",
              "      promise: fileDataPromise,\n",
              "      response: {\n",
              "        action: 'continue',\n",
              "      }\n",
              "    };\n",
              "\n",
              "    // Use a chunked sending to avoid message size limits. See b/62115660.\n",
              "    let position = 0;\n",
              "    do {\n",
              "      const length = Math.min(fileData.byteLength - position, MAX_PAYLOAD_SIZE);\n",
              "      const chunk = new Uint8Array(fileData, position, length);\n",
              "      position += length;\n",
              "\n",
              "      const base64 = btoa(String.fromCharCode.apply(null, chunk));\n",
              "      yield {\n",
              "        response: {\n",
              "          action: 'append',\n",
              "          file: file.name,\n",
              "          data: base64,\n",
              "        },\n",
              "      };\n",
              "\n",
              "      let percentDone = fileData.byteLength === 0 ?\n",
              "          100 :\n",
              "          Math.round((position / fileData.byteLength) * 100);\n",
              "      percent.textContent = `${percentDone}% done`;\n",
              "\n",
              "    } while (position < fileData.byteLength);\n",
              "  }\n",
              "\n",
              "  // All done.\n",
              "  yield {\n",
              "    response: {\n",
              "      action: 'complete',\n",
              "    }\n",
              "  };\n",
              "}\n",
              "\n",
              "scope.google = scope.google || {};\n",
              "scope.google.colab = scope.google.colab || {};\n",
              "scope.google.colab._files = {\n",
              "  _uploadFiles,\n",
              "  _uploadFilesContinue,\n",
              "};\n",
              "})(self);\n",
              "</script> "
            ]
          },
          "metadata": {}
        },
        {
          "output_type": "stream",
          "name": "stdout",
          "text": [
            "Saving phpB0xrNj.csv to phpB0xrNj.csv\n"
          ]
        }
      ]
    },
    {
      "cell_type": "code",
      "source": [
        "#Load the classfied dataset int a data frame using pandas\n",
        "a=pd.read_csv('/content/phpB0xrNj.csv',index_col=0)"
      ],
      "metadata": {
        "id": "-ePnrwOtsH6f"
      },
      "execution_count": 5,
      "outputs": []
    },
    {
      "cell_type": "code",
      "source": [
        "#3.Check the data types of each featurecolumnin the dataset\n",
        "print(\"Data Types of Each feature:\")\n",
        "print(a.dtypes)"
      ],
      "metadata": {
        "colab": {
          "base_uri": "https://localhost:8080/"
        },
        "id": "MtX35yd7scBz",
        "outputId": "91a43b36-e9de-48cb-f076-108c9cc5462d"
      },
      "execution_count": 6,
      "outputs": [
        {
          "output_type": "stream",
          "name": "stdout",
          "text": [
            "Data Types of Each feature:\n",
            "f2       float64\n",
            "f3       float64\n",
            "f4       float64\n",
            "f5       float64\n",
            "f6       float64\n",
            "          ...   \n",
            "f614     float64\n",
            "f615     float64\n",
            "f616     float64\n",
            "f617     float64\n",
            "class     object\n",
            "Length: 617, dtype: object\n"
          ]
        }
      ]
    },
    {
      "cell_type": "code",
      "source": [
        "#Generate a summary of the dataset for min,max,stddev,quartile values for 25%,50%,75%,80%\n",
        "print(\"\\nSummary Statics of the Data set (including quartiles):\")\n",
        "print(a.describe(percentiles=[.25, .5,.75, .80]))"
      ],
      "metadata": {
        "colab": {
          "base_uri": "https://localhost:8080/"
        },
        "id": "gANJDor_uIeK",
        "outputId": "276df3e7-4a8c-41cb-8a23-397e47eb9360"
      },
      "execution_count": 7,
      "outputs": [
        {
          "output_type": "stream",
          "name": "stdout",
          "text": [
            "\n",
            "Summary Statics of the Data set (including quartiles):\n",
            "                f2           f3           f4           f5           f6  \\\n",
            "count  7797.000000  7797.000000  7797.000000  7797.000000  7797.000000   \n",
            "mean      0.141103     0.347384     0.450659     0.324283     0.163589   \n",
            "std       0.320090     0.326658     0.308301     0.461491     0.569970   \n",
            "min      -0.892600    -0.975200    -0.968000    -0.996600    -1.000000   \n",
            "25%      -0.099400     0.105400     0.247800    -0.024800    -0.359600   \n",
            "50%       0.106400     0.333400     0.453200     0.415800     0.204200   \n",
            "75%       0.354600     0.583400     0.668600     0.692400     0.686200   \n",
            "80%       0.412960     0.642400     0.724400     0.748600     0.760000   \n",
            "max       1.000000     1.000000     1.000000     1.000000     1.000000   \n",
            "\n",
            "                f7           f8           f9          f10          f11  ...  \\\n",
            "count  7797.000000  7797.000000  7797.000000  7797.000000  7797.000000  ...   \n",
            "mean      0.023852    -0.081577    -0.149191    -0.191763    -0.176674  ...   \n",
            "std       0.559704     0.535142     0.528714     0.515343     0.479767  ...   \n",
            "min      -1.000000    -1.000000    -1.000000    -1.000000    -1.000000  ...   \n",
            "25%      -0.461600    -0.526800    -0.577400    -0.601200    -0.558000  ...   \n",
            "50%      -0.010800    -0.154400    -0.233200    -0.261000    -0.228000  ...   \n",
            "75%       0.492400     0.304400     0.190200     0.120000     0.111200  ...   \n",
            "80%       0.628520     0.434760     0.309000     0.219880     0.197600  ...   \n",
            "max       1.000000     1.000000     1.000000     1.000000     1.000000  ...   \n",
            "\n",
            "              f608         f609         f610         f611         f612  \\\n",
            "count  7797.000000  7797.000000  7797.000000  7797.000000  7797.000000   \n",
            "mean      0.370768     0.341730     0.311678     0.318904     0.334451   \n",
            "std       0.335582     0.330835     0.328813     0.333747     0.334954   \n",
            "min      -0.609400    -0.803400    -0.775200    -0.830200    -0.711800   \n",
            "25%       0.130400     0.098000     0.071400     0.073600     0.088600   \n",
            "50%       0.366200     0.337400     0.294200     0.295000     0.315800   \n",
            "75%       0.622600     0.588800     0.548800     0.565800     0.581600   \n",
            "80%       0.685800     0.650000     0.613000     0.632000     0.650160   \n",
            "max       1.000000     1.000000     1.000000     1.000000     1.000000   \n",
            "\n",
            "              f613         f614         f615         f616         f617  \n",
            "count  7797.000000  7797.000000  7797.000000  7797.000000  7797.000000  \n",
            "mean      0.299238     0.224122     0.186668     0.081370    -0.281416  \n",
            "std       0.334282     0.336135     0.337780     0.332859     0.354418  \n",
            "min      -0.770800    -0.810600    -0.780200    -0.802800    -0.962600  \n",
            "25%       0.049200    -0.017800    -0.057600    -0.154600    -0.546600  \n",
            "50%       0.280000     0.192400     0.157800     0.045200    -0.329000  \n",
            "75%       0.541200     0.461600     0.410800     0.289800    -0.065600  \n",
            "80%       0.606560     0.529120     0.478800     0.357680     0.008320  \n",
            "max       1.000000     1.000000     1.000000     1.000000     0.889800  \n",
            "\n",
            "[9 rows x 616 columns]\n"
          ]
        }
      ]
    },
    {
      "cell_type": "code",
      "source": [
        "#Get the list of columns(excluding the target and possibly irrelevant coumns)\n",
        "ls=list(a.columns)"
      ],
      "metadata": {
        "id": "8pzWY5tOu-rU"
      },
      "execution_count": 8,
      "outputs": []
    },
    {
      "cell_type": "code",
      "source": [
        "#Visualize pairplot of the dataset (might be slow for large datasets)\n",
        "sns.pairplot(a)"
      ],
      "metadata": {
        "id": "5UGsYA5DvNbB"
      },
      "execution_count": null,
      "outputs": []
    },
    {
      "cell_type": "code",
      "source": [],
      "metadata": {
        "id": "A4b0w3ncyB8v"
      },
      "execution_count": null,
      "outputs": []
    }
  ]
}